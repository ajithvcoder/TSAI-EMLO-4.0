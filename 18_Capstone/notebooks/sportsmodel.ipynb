{
 "cells": [
  {
   "cell_type": "code",
   "execution_count": 1,
   "metadata": {},
   "outputs": [
    {
     "name": "stdout",
     "output_type": "stream",
     "text": [
      "/home/muthu/GitHub/SPACEs/MLCapstone\n"
     ]
    }
   ],
   "source": [
    "import rootutils\n",
    "import os\n",
    "import torch \n",
    "\n",
    "# Setup root directory\n",
    "root = rootutils.setup_root(\n",
    "                    search_from=os.getcwd(),\n",
    "                    indicator=[\".project-root\",'.git'],\n",
    "                    project_root_env_var=True,             # set the PROJECT_ROOT environment variable to root directory\n",
    "                    dotenv=True,                           # load environment variables from .env if exists in root directory\n",
    "                    pythonpath=True,                       # add root directory to the PYTHONPATH (helps with imports)\n",
    "                    cwd=True                               # change current working directory to the root directory (helps with filepaths)\n",
    "        )\n",
    "print(root)"
   ]
  },
  {
   "cell_type": "code",
   "execution_count": 2,
   "metadata": {},
   "outputs": [],
   "source": [
    "# from src.backend.torch_local.models.msports_todo import InternViT\n",
    "from src.backend.torch_local.models.msports import LitSportModel\n",
    "from src.backend.torch_local.datamodules.sports_dm import LitSportsDataModule\n",
    "from src.backend.torch_local.utils.helpers import distribution_fn,show_batch_images,custom_check_image,custom_loader\n",
    "from src.backend.torch_local.utils.logging_utils import plot_confusion_matrix"
   ]
  },
  {
   "cell_type": "code",
   "execution_count": 3,
   "metadata": {},
   "outputs": [],
   "source": [
    "sports_data_dir  = r\"/home/muthu/GitHub/SPACEs/MLCapstone/data/processed/sports\""
   ]
  },
  {
   "cell_type": "code",
   "execution_count": 4,
   "metadata": {},
   "outputs": [
    {
     "name": "stdout",
     "output_type": "stream",
     "text": [
      "calling Sports  🤾‍♂️ DataModule\n"
     ]
    }
   ],
   "source": [
    "dm = LitSportsDataModule(32,12,False,sports_data_dir)\n",
    "dm.prepare_data()\n",
    "dm.setup('fit')\n",
    "dm.setup('test')"
   ]
  },
  {
   "cell_type": "code",
   "execution_count": 5,
   "metadata": {},
   "outputs": [
    {
     "data": {
      "text/plain": [
       "(torch.Size([32, 3, 224, 224]), torch.Size([32]), device(type='cpu'))"
      ]
     },
     "execution_count": 5,
     "metadata": {},
     "output_type": "execute_result"
    }
   ],
   "source": [
    "batch = next(iter(dm.train_dataloader()))\n",
    "images, labels = batch\n",
    "images.shape, labels.shape, images.device"
   ]
  },
  {
   "cell_type": "code",
   "execution_count": 6,
   "metadata": {},
   "outputs": [],
   "source": [
    "# distribution_fn(dm.train_dataloader())\n",
    "# show_batch_images(images)\n",
    "# plot_confusion_matrix(model,dm,classes=dm.train_ds.classes,path=os.path.join('..','assets'))"
   ]
  },
  {
   "cell_type": "code",
   "execution_count": 7,
   "metadata": {},
   "outputs": [],
   "source": [
    "# _ = LitSportModel(global_pool='avg',in_chans=3,num_classes=100, global_block_counts=(0,1,1,1),depths=(1,1,3,1),dims=(24,48,22,96),heads=(2,2,2,2),kernel_sizes=(1,3,5,7),d2_scales=(2,2,3,4),use_pos_emb=(False,True,False,False),ls_init_value=1e-6,head_init_scale=1,expand_ratio=4,downsample_block=False,conv_bias=True,stem_type='overlap',head_norm_first=False,act_layer='relu',drop_path_rate=0.01,drop_rate=0)\n",
    "# _ = LitSportModel.load_from_checkpoint( os.path.join( r\"./checkpoints/ckpts/sports.ckpt\" ) )\n",
    "# model = torch.jit.load( os.path.join(r'./checkpoints/pths/sports_cpu.pt'),map_location='cpu')"
   ]
  },
  {
   "cell_type": "code",
   "execution_count": 8,
   "metadata": {},
   "outputs": [
    {
     "name": "stdout",
     "output_type": "stream",
     "text": [
      "torch.Size([32, 100])\n",
      "cpu\n",
      "torch.Size([32, 100])\n",
      "cuda:0\n"
     ]
    }
   ],
   "source": [
    "\n",
    "model_cpu = torch.jit.load( os.path.join(r'./checkpoints/pths/sports_cpu.pt'), map_location=torch.device('cpu'))\n",
    "\n",
    "with torch.no_grad():\n",
    "    print(model_cpu(images).shape)\n",
    "    print(model_cpu(images).device)\n",
    "\n",
    "\n",
    "model = torch.jit.load( os.path.join(r'./checkpoints/pths/sports.pt'),  map_location=torch.device('cuda'))\n",
    "with torch.no_grad():\n",
    "    images = images.cuda()\n",
    "    print(model(images).shape)\n",
    "    print(model(images).device)"
   ]
  },
  {
   "cell_type": "code",
   "execution_count": 9,
   "metadata": {},
   "outputs": [],
   "source": [
    "# from torchinfo import summary\n",
    "# summary(model=model,depth=10,col_names=['num_params','params_percent','trainable'],input_data=images)"
   ]
  }
 ],
 "metadata": {
  "kernelspec": {
   "display_name": "menv",
   "language": "python",
   "name": "python3"
  },
  "language_info": {
   "codemirror_mode": {
    "name": "ipython",
    "version": 3
   },
   "file_extension": ".py",
   "mimetype": "text/x-python",
   "name": "python",
   "nbconvert_exporter": "python",
   "pygments_lexer": "ipython3",
   "version": "3.12.8"
  }
 },
 "nbformat": 4,
 "nbformat_minor": 2
}
