{
 "cells": [
  {
   "cell_type": "code",
   "execution_count": 1,
   "metadata": {},
   "outputs": [
    {
     "name": "stdout",
     "output_type": "stream",
     "text": [
      "/home/muthu/GitHub/SPACEs/MLCapstone\n"
     ]
    }
   ],
   "source": [
    "import rootutils\n",
    "import os\n",
    "\n",
    "# Setup root directory\n",
    "root = rootutils.setup_root(\n",
    "                    search_from=os.getcwd(),\n",
    "                    indicator=[\".project-root\",'.git'],\n",
    "                    project_root_env_var=True,             # set the PROJECT_ROOT environment variable to root directory\n",
    "                    dotenv=True,                           # load environment variables from .env if exists in root directory\n",
    "                    pythonpath=True,                       # add root directory to the PYTHONPATH (helps with imports)\n",
    "                    cwd=True                               # change current working directory to the root directory (helps with filepaths)\n",
    "        )\n",
    "print(root)"
   ]
  },
  {
   "cell_type": "code",
   "execution_count": 2,
   "metadata": {},
   "outputs": [],
   "source": [
    "from src.backend.torch_local.datamodules.vegfruits_dm import LitVegFruitsDataModule\n",
    "from src.backend.torch_local.utils.helpers import distribution_fn,show_batch_images,custom_check_image,custom_loader\n",
    "from src.backend.torch_local.utils.logging_utils import plot_confusion_matrix\n",
    "from src.backend.torch_local.models.mvegfruits import LitVegFruitsModel"
   ]
  },
  {
   "cell_type": "code",
   "execution_count": 5,
   "metadata": {},
   "outputs": [],
   "source": [
    "vegfruits_data_dir  = r\"data/processed/vegfruits/\""
   ]
  },
  {
   "cell_type": "code",
   "execution_count": 6,
   "metadata": {},
   "outputs": [
    {
     "name": "stdout",
     "output_type": "stream",
     "text": [
      "calling Sports  🤾‍♂️ DataModule\n"
     ]
    }
   ],
   "source": [
    "dm = LitVegFruitsDataModule(8,12,False,vegfruits_data_dir)\n",
    "dm.prepare_data()\n",
    "dm.setup('fit')\n",
    "dm.setup('test')"
   ]
  },
  {
   "cell_type": "code",
   "execution_count": null,
   "metadata": {},
   "outputs": [],
   "source": [
    "batch = next(iter(dm.train_dataloader()))\n",
    "images, labels = batch\n",
    "images.shape, labels.shape, images.device"
   ]
  },
  {
   "cell_type": "code",
   "execution_count": 6,
   "metadata": {},
   "outputs": [],
   "source": [
    "model_vegfruits = LitVegFruitsModel(num_classes=63,lr=1e-3,weight_decay=0.01,)\n",
    "model_vegfruits(images).shape"
   ]
  },
  {
   "cell_type": "code",
   "execution_count": 8,
   "metadata": {},
   "outputs": [],
   "source": [
    "classnames = dm.test_ds.classes"
   ]
  },
  {
   "cell_type": "code",
   "execution_count": null,
   "metadata": {},
   "outputs": [],
   "source": [
    "# distribution_fn(dm.train_dataloader())\n",
    "# distribution_fn(dm.test_dataloader())\n",
    "# distribution_fn(dm.val_dataloader())\n",
    "# show_batch_images(images)\n",
    "# plot_confusion_matrix(model=model_vegfruits,datamodule=dm,classes=clses)"
   ]
  }
 ],
 "metadata": {
  "kernelspec": {
   "display_name": "menv",
   "language": "python",
   "name": "python3"
  },
  "language_info": {
   "codemirror_mode": {
    "name": "ipython",
    "version": 3
   },
   "file_extension": ".py",
   "mimetype": "text/x-python",
   "name": "python",
   "nbconvert_exporter": "python",
   "pygments_lexer": "ipython3",
   "version": "3.12.8"
  }
 },
 "nbformat": 4,
 "nbformat_minor": 2
}
